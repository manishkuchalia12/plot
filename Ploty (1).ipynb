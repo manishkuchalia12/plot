{
 "cells": [
  {
   "cell_type": "markdown",
   "id": "48031bab-dedf-40d9-84a0-dfb91c1a2c48",
   "metadata": {},
   "source": [
    "Q1. Load the \"titanic\" dataset using the load_dataset function of seaborn. Use Plotly express to plot a\n",
    "scatter plot for age and fare columns in the titanic dataset."
   ]
  },
  {
   "cell_type": "code",
   "execution_count": null,
   "id": "08a4e54b-63a7-437b-80fe-951caa9b4c0b",
   "metadata": {},
   "outputs": [],
   "source": [
    "import seaborn as sns\n",
    "import plotly.express as px\n",
    "\n",
    "# Load the \"titanic\" dataset\n",
    "titanic_data = sns.load_dataset(\"titanic\")\n",
    "\n",
    "# Create a scatter plot using Plotly Express\n",
    "fig = px.scatter(titanic_data, x=\"age\", y=\"fare\", title=\"Scatter Plot of Age vs Fare in Titanic\",\n",
    "                 labels={\"age\": \"Age\", \"fare\": \"Fare\"})\n",
    "\n",
    "# Show the plot\n",
    "fig.show()\n"
   ]
  },
  {
   "cell_type": "markdown",
   "id": "a9e2c51d-2183-46f3-934c-f2f1aa2877bf",
   "metadata": {},
   "source": [
    "Q2. Using the tips dataset in the Plotly library, plot a box plot using Plotly express."
   ]
  },
  {
   "cell_type": "code",
   "execution_count": null,
   "id": "8a98dd4d-1c48-40d4-a2e0-aecf5eec57fd",
   "metadata": {},
   "outputs": [],
   "source": [
    "import plotly.express as px\n",
    "\n",
    "# Load the \"tips\" dataset from Plotly Express\n",
    "tips_data = px.data.tips\n",
    "\n",
    "# Create a box plot using Plotly Express\n",
    "fig = px.box(tips_data, x=\"day\", y=\"total_bill\", title=\"Box Plot of Total Bill by Day\",\n",
    "             labels={\"day\": \"Day\", \"total_bill\": \"Total Bill\"})\n",
    "\n",
    "# Show the plot\n",
    "fig.show()\n"
   ]
  },
  {
   "cell_type": "markdown",
   "id": "bd825202-27d1-404f-a87b-b93a84ad0fc1",
   "metadata": {},
   "source": [
    "Q3. Using the tips dataset in the Plotly library, Plot a histogram for x= \"sex\" and y=\"total_bill\" column in\n",
    "the tips dataset. Also, use the \"smoker\" column with the pattern_shape parameter and the \"day\"\n",
    "column with the color parameter."
   ]
  },
  {
   "cell_type": "code",
   "execution_count": null,
   "id": "c097d049-07ce-4f43-9d34-b0ca999473f1",
   "metadata": {},
   "outputs": [],
   "source": [
    "import plotly.express as px\n",
    "\n",
    "# Load the \"tips\" dataset from Plotly Express\n",
    "tips_data = px.data.tips\n",
    "\n",
    "# Create a histogram using Plotly Express\n",
    "fig = px.histogram(tips_data, x=\"sex\", y=\"total_bill\", color=\"day\", pattern_shape=\"smoker\",\n",
    "                   title=\"Histogram of Total Bill by Sex with Smoker Pattern and Day Color\",\n",
    "                   labels={\"sex\": \"Sex\", \"total_bill\": \"Total Bill\", \"day\": \"Day\", \"smoker\": \"Smoker\"})\n",
    "\n",
    "# Show the plot\n",
    "fig.show()\n"
   ]
  },
  {
   "cell_type": "markdown",
   "id": "9374818f-b935-4a66-bc21-596b0e772a48",
   "metadata": {},
   "source": [
    "Q4. Using the iris dataset in the Plotly library, Plot a scatter matrix plot, using the \"species\" column for\n",
    "the color parameter."
   ]
  },
  {
   "cell_type": "code",
   "execution_count": null,
   "id": "99986d5b-6861-453e-8ee5-762161baec4d",
   "metadata": {},
   "outputs": [],
   "source": [
    "import plotly.express as px\n",
    "\n",
    "# Load the \"iris\" dataset from Plotly Express\n",
    "iris_data = px.data.iris\n",
    "\n",
    "# Create a scatter matrix plot using Plotly Express\n",
    "fig = px.scatter_matrix(iris_data, dimensions=[\"sepal_width\", \"sepal_length\", \"petal_width\", \"petal_length\"],\n",
    "                       color=\"species\", title=\"Scatter Matrix Plot of Iris Dataset with Species Color\")\n",
    "\n",
    "# Show the plot\n",
    "fig.show()\n"
   ]
  },
  {
   "cell_type": "markdown",
   "id": "ec23f1d7-4f74-4c4d-b230-03162f0dbf5c",
   "metadata": {},
   "source": [
    "Q5. What is Distplot? Using Plotly express, plot a distplot.\n",
    "Ans:-n Plotly Express, the distplot function is used to create a distribution plot (histogram and kernel density estimate) for a single variable. It provides a visual representation of the distribution of values in a dataset.\n",
    "import plotly.express as px\r\n",
    "\r\n",
    "# Sample data (replace this with your own dataset)\r\n",
    "data = [1, 2, 2, 3, 3, 3, 4, 4, 4, 4, 5, 5, 5, 5, 5]\r\n",
    "\r\n",
    "# Create a distplot using Plotly Express\r\n",
    "fig = px.histogram(data, nbins=10, title=\"Distribution Plot (Distplot)\")\r\n",
    "\r\n",
    "# Show the plot\r\n",
    "fig.show()\r\n"
   ]
  }
 ],
 "metadata": {
  "kernelspec": {
   "display_name": "Python 3 (ipykernel)",
   "language": "python",
   "name": "python3"
  },
  "language_info": {
   "codemirror_mode": {
    "name": "ipython",
    "version": 3
   },
   "file_extension": ".py",
   "mimetype": "text/x-python",
   "name": "python",
   "nbconvert_exporter": "python",
   "pygments_lexer": "ipython3",
   "version": "3.12.0"
  }
 },
 "nbformat": 4,
 "nbformat_minor": 5
}
